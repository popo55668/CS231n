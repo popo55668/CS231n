{
 "cells": [
  {
   "cell_type": "markdown",
   "metadata": {
    "tags": [
     "pdf-title"
    ]
   },
   "source": [
    "# Softmax exercise\n",
    "\n",
    "*Complete and hand in this completed worksheet (including its outputs and any supporting code outside of the worksheet) with your assignment submission. For more details see the [assignments page](http://vision.stanford.edu/teaching/cs231n/assignments.html) on the course website.*\n",
    "\n",
    "This exercise is analogous to the SVM exercise. You will:\n",
    "\n",
    "- implement a fully-vectorized **loss function** for the Softmax classifier\n",
    "- implement the fully-vectorized expression for its **analytic gradient**\n",
    "- **check your implementation** with numerical gradient\n",
    "- use a validation set to **tune the learning rate and regularization** strength\n",
    "- **optimize** the loss function with **SGD**\n",
    "- **visualize** the final learned weights\n"
   ]
  },
  {
   "cell_type": "code",
   "execution_count": 2,
   "metadata": {
    "tags": [
     "pdf-ignore"
    ]
   },
   "outputs": [],
   "source": [
    "import random\n",
    "import numpy as np\n",
    "from cs231n.data_utils import load_CIFAR10\n",
    "import matplotlib.pyplot as plt\n",
    "\n",
    "%matplotlib inline\n",
    "plt.rcParams['figure.figsize'] = (10.0, 8.0) # set default size of plots\n",
    "plt.rcParams['image.interpolation'] = 'nearest'\n",
    "plt.rcParams['image.cmap'] = 'gray'\n",
    "\n",
    "# for auto-reloading extenrnal modules\n",
    "# see http://stackoverflow.com/questions/1907993/autoreload-of-modules-in-ipython\n",
    "%load_ext autoreload\n",
    "%autoreload 2"
   ]
  },
  {
   "cell_type": "code",
   "execution_count": 3,
   "metadata": {
    "tags": [
     "pdf-ignore"
    ]
   },
   "outputs": [
    {
     "name": "stdout",
     "output_type": "stream",
     "text": [
      "Train data shape:  (49000, 3073)\n",
      "Train labels shape:  (49000,)\n",
      "Validation data shape:  (1000, 3073)\n",
      "Validation labels shape:  (1000,)\n",
      "Test data shape:  (1000, 3073)\n",
      "Test labels shape:  (1000,)\n",
      "dev data shape:  (500, 3073)\n",
      "dev labels shape:  (500,)\n"
     ]
    }
   ],
   "source": [
    "def get_CIFAR10_data(num_training=49000, num_validation=1000, num_test=1000, num_dev=500):\n",
    "    \"\"\"\n",
    "    Load the CIFAR-10 dataset from disk and perform preprocessing to prepare\n",
    "    it for the linear classifier. These are the same steps as we used for the\n",
    "    SVM, but condensed to a single function.  \n",
    "    \"\"\"\n",
    "    # Load the raw CIFAR-10 data\n",
    "    cifar10_dir = 'cs231n/datasets/cifar-10-batches-py'\n",
    "    \n",
    "    # Cleaning up variables to prevent loading data multiple times (which may cause memory issue)\n",
    "    try:\n",
    "       del X_train, y_train\n",
    "       del X_test, y_test\n",
    "       print('Clear previously loaded data.')\n",
    "    except:\n",
    "       pass\n",
    "\n",
    "    X_train, y_train, X_test, y_test = load_CIFAR10(cifar10_dir)\n",
    "    \n",
    "    # subsample the data\n",
    "    mask = list(range(num_training, num_training + num_validation))\n",
    "    X_val = X_train[mask]\n",
    "    y_val = y_train[mask]\n",
    "    mask = list(range(num_training))\n",
    "    X_train = X_train[mask]\n",
    "    y_train = y_train[mask]\n",
    "    mask = list(range(num_test))\n",
    "    X_test = X_test[mask]\n",
    "    y_test = y_test[mask]\n",
    "    mask = np.random.choice(num_training, num_dev, replace=False)\n",
    "    X_dev = X_train[mask]\n",
    "    y_dev = y_train[mask]\n",
    "    \n",
    "    # Preprocessing: reshape the image data into rows\n",
    "    X_train = np.reshape(X_train, (X_train.shape[0], -1))\n",
    "    X_val = np.reshape(X_val, (X_val.shape[0], -1))\n",
    "    X_test = np.reshape(X_test, (X_test.shape[0], -1))\n",
    "    X_dev = np.reshape(X_dev, (X_dev.shape[0], -1))\n",
    "    \n",
    "    # Normalize the data: subtract the mean image\n",
    "    mean_image = np.mean(X_train, axis = 0)\n",
    "    X_train -= mean_image\n",
    "    X_val -= mean_image\n",
    "    X_test -= mean_image\n",
    "    X_dev -= mean_image\n",
    "    \n",
    "    # add bias dimension and transform into columns\n",
    "    X_train = np.hstack([X_train, np.ones((X_train.shape[0], 1))])\n",
    "    X_val = np.hstack([X_val, np.ones((X_val.shape[0], 1))])\n",
    "    X_test = np.hstack([X_test, np.ones((X_test.shape[0], 1))])\n",
    "    X_dev = np.hstack([X_dev, np.ones((X_dev.shape[0], 1))])\n",
    "    \n",
    "    return X_train, y_train, X_val, y_val, X_test, y_test, X_dev, y_dev\n",
    "\n",
    "\n",
    "# Invoke the above function to get our data.\n",
    "X_train, y_train, X_val, y_val, X_test, y_test, X_dev, y_dev = get_CIFAR10_data()\n",
    "print('Train data shape: ', X_train.shape)\n",
    "print('Train labels shape: ', y_train.shape)\n",
    "print('Validation data shape: ', X_val.shape)\n",
    "print('Validation labels shape: ', y_val.shape)\n",
    "print('Test data shape: ', X_test.shape)\n",
    "print('Test labels shape: ', y_test.shape)\n",
    "print('dev data shape: ', X_dev.shape)\n",
    "print('dev labels shape: ', y_dev.shape)"
   ]
  },
  {
   "cell_type": "markdown",
   "metadata": {},
   "source": [
    "## Softmax Classifier\n",
    "\n",
    "Your code for this section will all be written inside **cs231n/classifiers/softmax.py**. \n"
   ]
  },
  {
   "cell_type": "code",
   "execution_count": 21,
   "metadata": {},
   "outputs": [
    {
     "name": "stdout",
     "output_type": "stream",
     "text": [
      "loss: 2.387763\n",
      "sanity check: 2.302585\n"
     ]
    }
   ],
   "source": [
    "# First implement the naive softmax loss function with nested loops.\n",
    "# Open the file cs231n/classifiers/softmax.py and implement the\n",
    "# softmax_loss_naive function.\n",
    "\n",
    "from cs231n.classifiers.softmax import softmax_loss_naive\n",
    "import time\n",
    "\n",
    "# Generate a random softmax weight matrix and use it to compute the loss.\n",
    "W = np.random.randn(3073, 10) * 0.0001\n",
    "loss, grad = softmax_loss_naive(W, X_dev, y_dev, 0.0)\n",
    "\n",
    "# As a rough sanity check, our loss should be something close to -log(0.1).\n",
    "print('loss: %f' % loss)\n",
    "print('sanity check: %f' % (-np.log(0.1)))"
   ]
  },
  {
   "cell_type": "markdown",
   "metadata": {
    "tags": [
     "pdf-inline"
    ]
   },
   "source": [
    "**Inline Question 1**\n",
    "\n",
    "Why do we expect our loss to be close to -log(0.1)? Explain briefly.**\n",
    "\n",
    "$\\color{blue}{\\textit Your Answer:}$\n",
    "\n",
    "With random weights, we expect the probability of each class to be 1 / num_classes (0.1 in our case). Therefore, the corresponding softmax loss should be close to -np.log(0.1).\n"
   ]
  },
  {
   "cell_type": "code",
   "execution_count": 30,
   "metadata": {},
   "outputs": [
    {
     "name": "stdout",
     "output_type": "stream",
     "text": [
      "numerical: -0.658604 analytic: -0.658604, relative error: 5.605056e-09\n",
      "numerical: 5.143417 analytic: 5.143417, relative error: 6.769773e-09\n",
      "numerical: 1.354401 analytic: 1.354401, relative error: 2.714925e-08\n",
      "numerical: 1.748087 analytic: 1.748087, relative error: 4.755362e-08\n",
      "numerical: -5.872606 analytic: -5.872606, relative error: 4.635247e-09\n",
      "numerical: 0.728742 analytic: 0.728742, relative error: 3.239798e-08\n",
      "numerical: 1.914576 analytic: 1.914576, relative error: 8.856530e-09\n",
      "numerical: -0.839649 analytic: -0.839649, relative error: 9.400591e-08\n",
      "numerical: -1.423725 analytic: -1.423725, relative error: 9.347615e-09\n",
      "numerical: 3.086268 analytic: 3.086268, relative error: 2.945355e-08\n",
      "numerical: -1.249761 analytic: -1.249761, relative error: 6.546444e-09\n",
      "numerical: 0.446418 analytic: 0.446418, relative error: 7.800566e-08\n",
      "numerical: -1.897792 analytic: -1.897792, relative error: 2.949712e-08\n",
      "numerical: -0.326037 analytic: -0.326037, relative error: 2.003749e-07\n",
      "numerical: 0.996648 analytic: 0.996648, relative error: 4.119386e-08\n",
      "numerical: 0.909778 analytic: 0.909778, relative error: 9.528751e-08\n",
      "numerical: 1.456684 analytic: 1.456684, relative error: 2.968117e-08\n",
      "numerical: 1.249260 analytic: 1.249259, relative error: 4.128741e-08\n",
      "numerical: -0.324462 analytic: -0.324462, relative error: 2.484536e-08\n",
      "numerical: -6.250114 analytic: -6.250114, relative error: 7.488118e-09\n"
     ]
    }
   ],
   "source": [
    "# Complete the implementation of softmax_loss_naive and implement a (naive)\n",
    "# version of the gradient that uses nested loops.\n",
    "loss, grad = softmax_loss_naive(W, X_dev, y_dev, 0.0)\n",
    "\n",
    "# As we did for the SVM, use numeric gradient checking as a debugging tool.\n",
    "# The numeric gradient should be close to the analytic gradient.\n",
    "from cs231n.gradient_check import grad_check_sparse\n",
    "f = lambda w: softmax_loss_naive(w, X_dev, y_dev, 0.0)[0]\n",
    "grad_numerical = grad_check_sparse(f, W, grad, 10)\n",
    "\n",
    "# similar to SVM case, do another gradient check with regularization\n",
    "loss, grad = softmax_loss_naive(W, X_dev, y_dev, 5e1)\n",
    "f = lambda w: softmax_loss_naive(w, X_dev, y_dev, 5e1)[0]\n",
    "grad_numerical = grad_check_sparse(f, W, grad, 10)"
   ]
  },
  {
   "cell_type": "code",
   "execution_count": 33,
   "metadata": {},
   "outputs": [
    {
     "name": "stdout",
     "output_type": "stream",
     "text": [
      "naive loss: 2.387763e+00 computed in 0.015081s\n",
      "vectorized loss: 2.387763e+00 computed in 0.006706s\n",
      "Loss difference: 0.000000\n",
      "Gradient difference: 0.000000\n"
     ]
    }
   ],
   "source": [
    "# Now that we have a naive implementation of the softmax loss function and its gradient,\n",
    "# implement a vectorized version in softmax_loss_vectorized.\n",
    "# The two versions should compute the same results, but the vectorized version should be\n",
    "# much faster.\n",
    "tic = time.time()\n",
    "loss_naive, grad_naive = softmax_loss_naive(W, X_dev, y_dev, 0.000005)\n",
    "toc = time.time()\n",
    "print('naive loss: %e computed in %fs' % (loss_naive, toc - tic))\n",
    "\n",
    "from cs231n.classifiers.softmax import softmax_loss_vectorized\n",
    "tic = time.time()\n",
    "loss_vectorized, grad_vectorized = softmax_loss_vectorized(W, X_dev, y_dev, 0.000005)\n",
    "toc = time.time()\n",
    "print('vectorized loss: %e computed in %fs' % (loss_vectorized, toc - tic))\n",
    "\n",
    "# As we did for the SVM, we use the Frobenius norm to compare the two versions\n",
    "# of the gradient.\n",
    "grad_difference = np.linalg.norm(grad_naive - grad_vectorized, ord='fro')\n",
    "print('Loss difference: %f' % np.abs(loss_naive - loss_vectorized))\n",
    "print('Gradient difference: %f' % grad_difference)"
   ]
  },
  {
   "cell_type": "code",
   "execution_count": 37,
   "metadata": {
    "tags": [
     "code"
    ]
   },
   "outputs": [
    {
     "name": "stdout",
     "output_type": "stream",
     "text": [
      "That took 4.120148s\n",
      "That took 4.052517s\n",
      "That took 6.382734s\n",
      "That took 5.848108s\n",
      "That took 4.778123s\n",
      "That took 3.562847s\n",
      "That took 3.751965s\n",
      "That took 3.749568s\n",
      "That took 4.250607s\n",
      "That took 4.310504s\n",
      "That took 4.606083s\n",
      "That took 5.157649s\n",
      "That took 3.946903s\n",
      "That took 3.575439s\n",
      "That took 3.346896s\n",
      "That took 3.509913s\n",
      "That took 4.176586s\n",
      "That took 3.548183s\n",
      "That took 3.376052s\n",
      "That took 3.697659s\n",
      "That took 3.569692s\n",
      "That took 3.618548s\n",
      "That took 3.954037s\n",
      "That took 3.392286s\n",
      "That took 3.512271s\n",
      "That took 3.622751s\n",
      "That took 3.430457s\n",
      "That took 3.525941s\n",
      "That took 3.494285s\n",
      "That took 3.338942s\n",
      "That took 3.429132s\n",
      "That took 4.261188s\n",
      "That took 3.823438s\n",
      "That took 3.401046s\n",
      "That took 4.011494s\n",
      "That took 4.312052s\n",
      "lr 1.000000e-07 reg 2.500000e+04 train accuracy: 0.330653 val accuracy: 0.350000\n",
      "lr 1.000000e-07 reg 3.000000e+04 train accuracy: 0.326918 val accuracy: 0.339000\n",
      "lr 1.000000e-07 reg 3.500000e+04 train accuracy: 0.321061 val accuracy: 0.341000\n",
      "lr 1.000000e-07 reg 4.000000e+04 train accuracy: 0.321653 val accuracy: 0.332000\n",
      "lr 1.000000e-07 reg 4.500000e+04 train accuracy: 0.310571 val accuracy: 0.321000\n",
      "lr 1.000000e-07 reg 5.000000e+04 train accuracy: 0.302776 val accuracy: 0.323000\n",
      "lr 1.800000e-07 reg 2.500000e+04 train accuracy: 0.329776 val accuracy: 0.345000\n",
      "lr 1.800000e-07 reg 3.000000e+04 train accuracy: 0.313776 val accuracy: 0.334000\n",
      "lr 1.800000e-07 reg 3.500000e+04 train accuracy: 0.321490 val accuracy: 0.344000\n",
      "lr 1.800000e-07 reg 4.000000e+04 train accuracy: 0.314020 val accuracy: 0.334000\n",
      "lr 1.800000e-07 reg 4.500000e+04 train accuracy: 0.313367 val accuracy: 0.324000\n",
      "lr 1.800000e-07 reg 5.000000e+04 train accuracy: 0.304388 val accuracy: 0.315000\n",
      "lr 2.600000e-07 reg 2.500000e+04 train accuracy: 0.328816 val accuracy: 0.348000\n",
      "lr 2.600000e-07 reg 3.000000e+04 train accuracy: 0.321082 val accuracy: 0.337000\n",
      "lr 2.600000e-07 reg 3.500000e+04 train accuracy: 0.315224 val accuracy: 0.326000\n",
      "lr 2.600000e-07 reg 4.000000e+04 train accuracy: 0.316184 val accuracy: 0.329000\n",
      "lr 2.600000e-07 reg 4.500000e+04 train accuracy: 0.310000 val accuracy: 0.330000\n",
      "lr 2.600000e-07 reg 5.000000e+04 train accuracy: 0.297143 val accuracy: 0.318000\n",
      "lr 3.400000e-07 reg 2.500000e+04 train accuracy: 0.328816 val accuracy: 0.344000\n",
      "lr 3.400000e-07 reg 3.000000e+04 train accuracy: 0.318102 val accuracy: 0.330000\n",
      "lr 3.400000e-07 reg 3.500000e+04 train accuracy: 0.320776 val accuracy: 0.336000\n",
      "lr 3.400000e-07 reg 4.000000e+04 train accuracy: 0.315878 val accuracy: 0.334000\n",
      "lr 3.400000e-07 reg 4.500000e+04 train accuracy: 0.307490 val accuracy: 0.319000\n",
      "lr 3.400000e-07 reg 5.000000e+04 train accuracy: 0.310735 val accuracy: 0.320000\n",
      "lr 4.200000e-07 reg 2.500000e+04 train accuracy: 0.325143 val accuracy: 0.334000\n",
      "lr 4.200000e-07 reg 3.000000e+04 train accuracy: 0.320633 val accuracy: 0.330000\n",
      "lr 4.200000e-07 reg 3.500000e+04 train accuracy: 0.316898 val accuracy: 0.334000\n",
      "lr 4.200000e-07 reg 4.000000e+04 train accuracy: 0.310347 val accuracy: 0.327000\n",
      "lr 4.200000e-07 reg 4.500000e+04 train accuracy: 0.308776 val accuracy: 0.329000\n",
      "lr 4.200000e-07 reg 5.000000e+04 train accuracy: 0.288592 val accuracy: 0.300000\n",
      "lr 5.000000e-07 reg 2.500000e+04 train accuracy: 0.323265 val accuracy: 0.333000\n",
      "lr 5.000000e-07 reg 3.000000e+04 train accuracy: 0.318633 val accuracy: 0.328000\n",
      "lr 5.000000e-07 reg 3.500000e+04 train accuracy: 0.324224 val accuracy: 0.330000\n",
      "lr 5.000000e-07 reg 4.000000e+04 train accuracy: 0.302286 val accuracy: 0.307000\n",
      "lr 5.000000e-07 reg 4.500000e+04 train accuracy: 0.310531 val accuracy: 0.319000\n",
      "lr 5.000000e-07 reg 5.000000e+04 train accuracy: 0.308592 val accuracy: 0.325000\n",
      "best validation accuracy achieved during cross-validation: 0.350000\n"
     ]
    }
   ],
   "source": [
    "# Use the validation set to tune hyperparameters (regularization strength and\n",
    "# learning rate). You should experiment with different ranges for the learning\n",
    "# rates and regularization strengths; if you are careful you should be able to\n",
    "# get a classification accuracy of over 0.35 on the validation set.\n",
    "from cs231n.classifiers import Softmax\n",
    "results = {}\n",
    "best_val = -1\n",
    "best_softmax = None\n",
    "learning_rates = [1e-7, 5e-7]\n",
    "regularization_strengths = [2.5e4, 5e4]\n",
    "\n",
    "################################################################################\n",
    "# TODO:                                                                        #\n",
    "# Use the validation set to set the learning rate and regularization strength. #\n",
    "# This should be identical to the validation that you did for the SVM; save    #\n",
    "# the best trained softmax classifer in best_softmax.                          #\n",
    "################################################################################\n",
    "# *****START OF YOUR CODE (DO NOT DELETE/MODIFY THIS LINE)*****\n",
    "\n",
    "num_lr = 5\n",
    "num_reg = 5\n",
    "lr_step = (learning_rates[1] - learning_rates[0]) / num_lr\n",
    "reg_step = (regularization_strengths[1] - regularization_strengths[0]) / num_reg\n",
    "\n",
    "lr = learning_rates[0]\n",
    "for i in range(num_lr + 1):\n",
    "    reg = regularization_strengths[0]\n",
    "    for j in range(num_reg + 1):\n",
    "        softmax = Softmax()\n",
    "        tic = time.time()\n",
    "        loss_hist = softmax.train(X_train, y_train, learning_rate=lr, reg=reg,\n",
    "                                 num_iters=1500, verbose=False)\n",
    "        toc = time.time()\n",
    "        print('That took %fs' % (toc - tic))\n",
    "        y_train_pred = softmax.predict(X_train)\n",
    "        y_val_pred = softmax.predict(X_val)\n",
    "        \n",
    "        y_train_acc = np.mean(y_train == y_train_pred)\n",
    "        y_val_acc = np.mean(y_val == y_val_pred)\n",
    "        \n",
    "        results[(lr, reg)] = (y_train_acc, y_val_acc)\n",
    "        if y_val_acc > best_val:\n",
    "            best_val = y_val_acc\n",
    "            best_softmax = softmax\n",
    "        \n",
    "        reg += reg_step\n",
    "    lr += lr_step\n",
    "# *****END OF YOUR CODE (DO NOT DELETE/MODIFY THIS LINE)*****\n",
    "    \n",
    "# Print out results.\n",
    "for lr, reg in sorted(results):\n",
    "    train_accuracy, val_accuracy = results[(lr, reg)]\n",
    "    print('lr %e reg %e train accuracy: %f val accuracy: %f' % (\n",
    "                lr, reg, train_accuracy, val_accuracy))\n",
    "    \n",
    "print('best validation accuracy achieved during cross-validation: %f' % best_val)"
   ]
  },
  {
   "cell_type": "code",
   "execution_count": 39,
   "metadata": {},
   "outputs": [
    {
     "name": "stdout",
     "output_type": "stream",
     "text": [
      "softmax on raw pixels final test set accuracy: 0.343000\n"
     ]
    }
   ],
   "source": [
    "# evaluate on test set\n",
    "# Evaluate the best softmax on test set\n",
    "y_test_pred = best_softmax.predict(X_test)\n",
    "test_accuracy = np.mean(y_test == y_test_pred)\n",
    "print('softmax on raw pixels final test set accuracy: %f' % (test_accuracy, ))"
   ]
  },
  {
   "cell_type": "markdown",
   "metadata": {
    "tags": [
     "pdf-inline"
    ]
   },
   "source": [
    "**Inline Question 2** - *True or False*\n",
    "\n",
    "Suppose the overall training loss is defined as the sum of the per-datapoint loss over all training examples. It is possible to add a new datapoint to a training set that would leave the SVM loss unchanged, but this is not the case with the Softmax classifier loss.\n",
    "\n",
    "$\\color{blue}{\\textit Your Answer:}$ True\n",
    "\n",
    "\n",
    "$\\color{blue}{\\textit Your Explanation:}$\n",
    "If the data point has been classified correctly, for svm classifier, the data point won't contribute any loss if the correct score is greater than other scores by the specified margin. However, even the data point is correct, for softmax classifier, it will still contribute little loss.\n"
   ]
  },
  {
   "cell_type": "code",
   "execution_count": 40,
   "metadata": {},
   "outputs": [
    {
     "data": {
      "image/png": "[encoded data removed]",
      "text/plain": [
       "<Figure size 432x288 with 10 Axes>"
      ]
     },
     "metadata": {
      "needs_background": "light"
     },
     "output_type": "display_data"
    }
   ],
   "source": [
    "# Visualize the learned weights for each class\n",
    "w = best_softmax.W[:-1,:] # strip out the bias\n",
    "w = w.reshape(32, 32, 3, 10)\n",
    "\n",
    "w_min, w_max = np.min(w), np.max(w)\n",
    "\n",
    "classes = ['plane', 'car', 'bird', 'cat', 'deer', 'dog', 'frog', 'horse', 'ship', 'truck']\n",
    "for i in range(10):\n",
    "    plt.subplot(2, 5, i + 1)\n",
    "    \n",
    "    # Rescale the weights to be between 0 and 255\n",
    "    wimg = 255.0 * (w[:, :, :, i].squeeze() - w_min) / (w_max - w_min)\n",
    "    plt.imshow(wimg.astype('uint8'))\n",
    "    plt.axis('off')\n",
    "    plt.title(classes[i])"
   ]
  }
 ],
 "metadata": {
  "kernelspec": {
   "display_name": "Python 3",
   "language": "python",
   "name": "python3"
  },
  "language_info": {
   "codemirror_mode": {
    "name": "ipython",
    "version": 3
   },
   "file_extension": ".py",
   "mimetype": "text/x-python",
   "name": "python",
   "nbconvert_exporter": "python",
   "pygments_lexer": "ipython3",
   "version": "3.6.5"
  }
 },
 "nbformat": 4,
 "nbformat_minor": 1
}
